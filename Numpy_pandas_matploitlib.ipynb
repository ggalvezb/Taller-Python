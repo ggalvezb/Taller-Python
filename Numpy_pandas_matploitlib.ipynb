{
 "cells": [
  {
   "cell_type": "code",
   "execution_count": 1,
   "metadata": {},
   "outputs": [],
   "source": [
    "import numpy as np"
   ]
  },
  {
   "cell_type": "markdown",
   "metadata": {},
   "source": [
    "## Arrays"
   ]
  },
  {
   "cell_type": "code",
   "execution_count": 2,
   "metadata": {},
   "outputs": [
    {
     "name": "stdout",
     "output_type": "stream",
     "text": [
      "<class 'numpy.ndarray'>\n",
      "(3,)\n",
      "1 2 3\n",
      "[5 2 3]\n"
     ]
    }
   ],
   "source": [
    "a = np.array([1, 2, 3])\n",
    "print(type(a))\n",
    "print(a.shape)\n",
    "print(a[0], a[1], a[2])\n",
    "a[0] = 5\n",
    "print(a)"
   ]
  },
  {
   "cell_type": "code",
   "execution_count": 7,
   "metadata": {},
   "outputs": [
    {
     "name": "stdout",
     "output_type": "stream",
     "text": [
      "[[1 2 3]\n",
      " [4 5 6]]\n",
      "(2, 3)\n",
      "1\n",
      "1 2 4\n"
     ]
    }
   ],
   "source": [
    "b = np.array([[1, 2, 3], [4, 5, 6]])\n",
    "print(b)\n",
    "print(b.shape)\n",
    "print(b[0][0])\n",
    "print(b[0, 0], b[0, 1], b[1, 0])"
   ]
  },
  {
   "cell_type": "code",
   "execution_count": 4,
   "metadata": {},
   "outputs": [
    {
     "name": "stdout",
     "output_type": "stream",
     "text": [
      "[[ 0.  0.]\n",
      " [ 0.  0.]]\n"
     ]
    }
   ],
   "source": [
    "a = np.zeros((2, 2))\n",
    "print(a)"
   ]
  },
  {
   "cell_type": "code",
   "execution_count": 5,
   "metadata": {},
   "outputs": [
    {
     "name": "stdout",
     "output_type": "stream",
     "text": [
      "[[ 1.  1.]]\n"
     ]
    }
   ],
   "source": [
    "b = np.ones((1, 2))\n",
    "print(b)"
   ]
  },
  {
   "cell_type": "code",
   "execution_count": 6,
   "metadata": {},
   "outputs": [
    {
     "name": "stdout",
     "output_type": "stream",
     "text": [
      "[[7 7]\n",
      " [7 7]]\n"
     ]
    }
   ],
   "source": [
    "c = np.full((2, 2), 7)\n",
    "print(c)"
   ]
  },
  {
   "cell_type": "code",
   "execution_count": 7,
   "metadata": {},
   "outputs": [
    {
     "name": "stdout",
     "output_type": "stream",
     "text": [
      "[[ 1.  0.]\n",
      " [ 0.  1.]]\n"
     ]
    }
   ],
   "source": [
    "d = np.eye(2)\n",
    "print(d)"
   ]
  },
  {
   "cell_type": "code",
   "execution_count": 8,
   "metadata": {},
   "outputs": [
    {
     "name": "stdout",
     "output_type": "stream",
     "text": [
      "[[ 0.92946926  0.99792969]\n",
      " [ 0.60826457  0.87270331]]\n"
     ]
    }
   ],
   "source": [
    "e = np.random.random((2, 2))\n",
    "print(e)"
   ]
  },
  {
   "cell_type": "markdown",
   "metadata": {},
   "source": [
    "## Array indexing"
   ]
  },
  {
   "cell_type": "code",
   "execution_count": 5,
   "metadata": {},
   "outputs": [
    {
     "name": "stdout",
     "output_type": "stream",
     "text": [
      "[[ 1  2  3  4]\n",
      " [ 5  6  7  8]\n",
      " [ 9 10 11 12]]\n",
      "3\n"
     ]
    }
   ],
   "source": [
    "a = np.array([[1, 2, 3, 4], [5, 6, 7, 8], [9, 10, 11, 12]])\n",
    "print(a)\n",
    "print(a[0, 2])"
   ]
  },
  {
   "cell_type": "code",
   "execution_count": 6,
   "metadata": {},
   "outputs": [
    {
     "name": "stdout",
     "output_type": "stream",
     "text": [
      "[[2 3]\n",
      " [6 7]]\n"
     ]
    }
   ],
   "source": [
    "b = a[:2, 1:3]\n",
    "print(b)"
   ]
  },
  {
   "cell_type": "code",
   "execution_count": 7,
   "metadata": {},
   "outputs": [
    {
     "name": "stdout",
     "output_type": "stream",
     "text": [
      "[[ 1 77  3  4]\n",
      " [ 5  6  7  8]\n",
      " [ 9 10 11 12]]\n",
      "77\n"
     ]
    }
   ],
   "source": [
    "b[0, 0] = 77\n",
    "print(a)\n",
    "print(a[0, 1])"
   ]
  },
  {
   "cell_type": "code",
   "execution_count": 8,
   "metadata": {},
   "outputs": [
    {
     "name": "stdout",
     "output_type": "stream",
     "text": [
      "[5 6 7 8] (4,)\n",
      "[[5 6 7 8]] (1, 4)\n"
     ]
    }
   ],
   "source": [
    "a = np.array([[1, 2, 3, 4], [5, 6, 7, 8], [9, 10, 11, 12]])\n",
    "row_r1 = a[1, :]\n",
    "row_r2 = a[1:2, :]\n",
    "print(row_r1, row_r1.shape)\n",
    "print(row_r2, row_r2.shape)"
   ]
  },
  {
   "cell_type": "code",
   "execution_count": 13,
   "metadata": {},
   "outputs": [
    {
     "name": "stdout",
     "output_type": "stream",
     "text": [
      "[ 2  6 10] (3,)\n",
      "[[ 2]\n",
      " [ 6]\n",
      " [10]] (3, 1)\n"
     ]
    }
   ],
   "source": [
    "col_r1 = a[:, 1]\n",
    "col_r2 = a[:, 1:2]\n",
    "print(col_r1, col_r1.shape)\n",
    "print(col_r2, col_r2.shape)"
   ]
  },
  {
   "cell_type": "code",
   "execution_count": 13,
   "metadata": {},
   "outputs": [
    {
     "name": "stdout",
     "output_type": "stream",
     "text": [
      "[1 4 5]\n",
      "[1 4 5]\n",
      "[2 2]\n",
      "[2 2]\n"
     ]
    }
   ],
   "source": [
    "a = np.array([[1, 2], [3, 4], [5, 6]])\n",
    "print(a[[0, 1, 2], [0, 1, 0]])\n",
    "print(np.array([a[0, 0], a[1, 1], a[2, 0]]))\n",
    "print(a[[0, 0], [1, 1]])\n",
    "print(np.array([a[0, 1], a[0, 1]]))"
   ]
  },
  {
   "cell_type": "code",
   "execution_count": 14,
   "metadata": {},
   "outputs": [
    {
     "name": "stdout",
     "output_type": "stream",
     "text": [
      "[[ 1  2  3]\n",
      " [ 4  5  6]\n",
      " [ 7  8  9]\n",
      " [10 11 12]]\n"
     ]
    }
   ],
   "source": [
    "a = np.array([[1, 2, 3], [4, 5, 6], [7, 8, 9], [10, 11, 12]])\n",
    "print(a)"
   ]
  },
  {
   "cell_type": "code",
   "execution_count": 18,
   "metadata": {},
   "outputs": [
    {
     "name": "stdout",
     "output_type": "stream",
     "text": [
      "[0 2 0 1]\n",
      "[0 1 2 3]\n",
      "[ 1  6  7 11]\n"
     ]
    }
   ],
   "source": [
    "b = np.array([0, 2, 0, 1])\n",
    "print(b)\n",
    "print(np.arange(4))\n",
    "print(a[np.arange(4), b])"
   ]
  },
  {
   "cell_type": "code",
   "execution_count": 17,
   "metadata": {},
   "outputs": [
    {
     "name": "stdout",
     "output_type": "stream",
     "text": [
      "[[11  2  3]\n",
      " [ 4  5 16]\n",
      " [17  8  9]\n",
      " [10 21 12]]\n"
     ]
    }
   ],
   "source": [
    "a[np.arange(4), b] += 10\n",
    "print(a)"
   ]
  },
  {
   "cell_type": "code",
   "execution_count": 18,
   "metadata": {},
   "outputs": [
    {
     "name": "stdout",
     "output_type": "stream",
     "text": [
      "[[False False]\n",
      " [ True  True]\n",
      " [ True  True]]\n",
      "[3 4 5 6]\n",
      "[3 4 5 6]\n"
     ]
    }
   ],
   "source": [
    "a = np.array([[1, 2], [3, 4], [5, 6]])\n",
    "book_idx = (a > 2)\n",
    "print(book_idx)\n",
    "print(a[book_idx])\n",
    "print(a[a > 2])"
   ]
  },
  {
   "cell_type": "markdown",
   "metadata": {},
   "source": [
    "## Datatypes"
   ]
  },
  {
   "cell_type": "code",
   "execution_count": 19,
   "metadata": {},
   "outputs": [
    {
     "name": "stdout",
     "output_type": "stream",
     "text": [
      "int64\n"
     ]
    }
   ],
   "source": [
    "x = np.array([1, 2])\n",
    "print(x.dtype)"
   ]
  },
  {
   "cell_type": "code",
   "execution_count": 20,
   "metadata": {},
   "outputs": [
    {
     "name": "stdout",
     "output_type": "stream",
     "text": [
      "float64\n"
     ]
    }
   ],
   "source": [
    "x = np.array([1.0, 2.0])\n",
    "print(x.dtype)"
   ]
  },
  {
   "cell_type": "code",
   "execution_count": 21,
   "metadata": {},
   "outputs": [
    {
     "name": "stdout",
     "output_type": "stream",
     "text": [
      "int64\n"
     ]
    }
   ],
   "source": [
    "x = np.array([1, 2], dtype=np.int64)\n",
    "print(x.dtype)"
   ]
  },
  {
   "cell_type": "markdown",
   "metadata": {},
   "source": [
    "## Array math"
   ]
  },
  {
   "cell_type": "code",
   "execution_count": 22,
   "metadata": {},
   "outputs": [
    {
     "name": "stdout",
     "output_type": "stream",
     "text": [
      "[[  6.   8.]\n",
      " [ 10.  12.]]\n",
      "[[  6.   8.]\n",
      " [ 10.  12.]]\n"
     ]
    }
   ],
   "source": [
    "x = np.array([[1, 2], [3, 4]], dtype=np.float64)\n",
    "y = np.array([[5, 6], [7, 8]], dtype=np.float64)\n",
    "print(x + y)\n",
    "print(np.add(x, y))"
   ]
  },
  {
   "cell_type": "code",
   "execution_count": 23,
   "metadata": {},
   "outputs": [
    {
     "name": "stdout",
     "output_type": "stream",
     "text": [
      "[[-4. -4.]\n",
      " [-4. -4.]]\n",
      "[[-4. -4.]\n",
      " [-4. -4.]]\n"
     ]
    }
   ],
   "source": [
    "print(x - y)\n",
    "print(np.subtract(x, y))"
   ]
  },
  {
   "cell_type": "code",
   "execution_count": 24,
   "metadata": {},
   "outputs": [
    {
     "name": "stdout",
     "output_type": "stream",
     "text": [
      "[[  5.  12.]\n",
      " [ 21.  32.]]\n",
      "[[  5.  12.]\n",
      " [ 21.  32.]]\n"
     ]
    }
   ],
   "source": [
    "print(x * y)\n",
    "print(np.multiply(x, y))"
   ]
  },
  {
   "cell_type": "code",
   "execution_count": 25,
   "metadata": {},
   "outputs": [
    {
     "name": "stdout",
     "output_type": "stream",
     "text": [
      "[[ 0.2         0.33333333]\n",
      " [ 0.42857143  0.5       ]]\n",
      "[[ 0.2         0.33333333]\n",
      " [ 0.42857143  0.5       ]]\n"
     ]
    }
   ],
   "source": [
    "print(x / y)\n",
    "print(np.divide(x, y))"
   ]
  },
  {
   "cell_type": "code",
   "execution_count": 26,
   "metadata": {},
   "outputs": [
    {
     "name": "stdout",
     "output_type": "stream",
     "text": [
      "[[ 1.          1.41421356]\n",
      " [ 1.73205081  2.        ]]\n"
     ]
    }
   ],
   "source": [
    "print(np.sqrt(x))"
   ]
  },
  {
   "cell_type": "code",
   "execution_count": 27,
   "metadata": {},
   "outputs": [
    {
     "name": "stdout",
     "output_type": "stream",
     "text": [
      "219\n",
      "219\n"
     ]
    }
   ],
   "source": [
    "x = np.array([[1, 2], [3, 4]])\n",
    "y = np.array([[5, 6], [7, 8]])\n",
    "\n",
    "v = np.array([9, 10])\n",
    "w = np.array([11, 12])\n",
    "\n",
    "print(v.dot(w))\n",
    "print(np.dot(v, w))"
   ]
  },
  {
   "cell_type": "code",
   "execution_count": 28,
   "metadata": {},
   "outputs": [
    {
     "name": "stdout",
     "output_type": "stream",
     "text": [
      "[29 67]\n",
      "[29 67]\n"
     ]
    }
   ],
   "source": [
    "print(x.dot(v))\n",
    "print(np.dot(x, v))"
   ]
  },
  {
   "cell_type": "code",
   "execution_count": 29,
   "metadata": {},
   "outputs": [
    {
     "name": "stdout",
     "output_type": "stream",
     "text": [
      "[[19 22]\n",
      " [43 50]]\n",
      "[[19 22]\n",
      " [43 50]]\n"
     ]
    }
   ],
   "source": [
    "print(x.dot(y))\n",
    "print(np.dot(x, y))"
   ]
  },
  {
   "cell_type": "code",
   "execution_count": 19,
   "metadata": {},
   "outputs": [
    {
     "name": "stdout",
     "output_type": "stream",
     "text": [
      "[[1 2]\n",
      " [3 4]]\n",
      "10\n",
      "[4 6]\n",
      "[3 7]\n"
     ]
    }
   ],
   "source": [
    "x = np.array([[1, 2], [3, 4]])\n",
    "print(x)\n",
    "print(np.sum(x))\n",
    "print(np.sum(x, axis=0))\n",
    "print(np.sum(x, axis=1))"
   ]
  },
  {
   "cell_type": "code",
   "execution_count": 31,
   "metadata": {},
   "outputs": [
    {
     "name": "stdout",
     "output_type": "stream",
     "text": [
      "[[1 2]\n",
      " [3 4]]\n",
      "[[1 3]\n",
      " [2 4]]\n"
     ]
    }
   ],
   "source": [
    "x = np.array([[1, 2], [3, 4]])\n",
    "print(x)\n",
    "print(x.T)"
   ]
  },
  {
   "cell_type": "code",
   "execution_count": 32,
   "metadata": {},
   "outputs": [
    {
     "name": "stdout",
     "output_type": "stream",
     "text": [
      "[1 2 3]\n",
      "[1 2 3]\n"
     ]
    }
   ],
   "source": [
    "v = np.array([1, 2, 3])\n",
    "print(v)\n",
    "print(v.T)"
   ]
  },
  {
   "cell_type": "markdown",
   "metadata": {},
   "source": [
    "## SciPy"
   ]
  },
  {
   "cell_type": "markdown",
   "metadata": {},
   "source": [
    "### Distance between points"
   ]
  },
  {
   "cell_type": "code",
   "execution_count": 42,
   "metadata": {},
   "outputs": [
    {
     "name": "stdout",
     "output_type": "stream",
     "text": [
      "[[0 1]\n",
      " [1 0]\n",
      " [2 0]]\n",
      "[[ 0.          1.41421356  2.23606798]\n",
      " [ 1.41421356  0.          1.        ]\n",
      " [ 2.23606798  1.          0.        ]]\n"
     ]
    }
   ],
   "source": [
    "from scipy.spatial.distance import pdist\n",
    "from scipy.spatial.distance import squareform\n",
    "\n",
    "x = np.array([[0, 1], [1, 0], [2, 0]])\n",
    "print(x)\n",
    "\n",
    "d = squareform(pdist(x, 'euclidean'))\n",
    "print(d)"
   ]
  },
  {
   "cell_type": "markdown",
   "metadata": {},
   "source": [
    "## Matplotlib"
   ]
  },
  {
   "cell_type": "markdown",
   "metadata": {},
   "source": [
    "### Plotting"
   ]
  },
  {
   "cell_type": "code",
   "execution_count": 9,
   "metadata": {},
   "outputs": [
    {
     "data": {
      "image/png": "[encoded data removed]",
      "text/plain": [
       "<Figure size 432x288 with 1 Axes>"
      ]
     },
     "metadata": {},
     "output_type": "display_data"
    }
   ],
   "source": [
    "import matplotlib.pyplot as plt\n",
    "\n",
    "x = np.arange(0, 3 * np.pi, 0.1)\n",
    "\n",
    "y = np.sin(x)\n",
    "\n",
    "plt.plot(x, y)\n",
    "plt.show()"
   ]
  },
  {
   "cell_type": "code",
   "execution_count": 44,
   "metadata": {},
   "outputs": [
    {
     "data": {
      "image/png": "[encoded data removed]",
      "text/plain": [
       "<matplotlib.figure.Figure at 0x10c4e6a58>"
      ]
     },
     "metadata": {},
     "output_type": "display_data"
    }
   ],
   "source": [
    "x = np.arange(0, 3 * np.pi, 0.1)\n",
    "y_sin = np.sin(x)\n",
    "y_cos = np.cos(x)\n",
    "\n",
    "plt.plot(x, y_sin)\n",
    "plt.plot(x, y_cos)\n",
    "plt.xlabel('x axis label')\n",
    "plt.ylabel('y axis label')\n",
    "plt.title('Sine and Cosine')\n",
    "plt.legend(['Sine', 'Cosine'])\n",
    "plt.show()"
   ]
  },
  {
   "cell_type": "markdown",
   "metadata": {},
   "source": [
    "### Subplots"
   ]
  },
  {
   "cell_type": "code",
   "execution_count": 45,
   "metadata": {
    "scrolled": true
   },
   "outputs": [
    {
     "data": {
      "image/png": "[encoded data removed]",
      "text/plain": [
       "<matplotlib.figure.Figure at 0x10c53ceb8>"
      ]
     },
     "metadata": {},
     "output_type": "display_data"
    }
   ],
   "source": [
    "x = np.arange(0, 3 * np.pi, 0.1)\n",
    "y_sin = np.sin(x)\n",
    "y_cos = np.cos(x)\n",
    "\n",
    "plt.subplot(2, 1, 1)\n",
    "plt.plot(x, y_sin)\n",
    "plt.title('Sine')\n",
    "\n",
    "plt.subplot(2, 1, 2)\n",
    "plt.plot(x, y_cos)\n",
    "plt.title('Cosine')\n",
    "plt.show()"
   ]
  },
  {
   "cell_type": "markdown",
   "metadata": {},
   "source": [
    "# PANDAS"
   ]
  },
  {
   "cell_type": "code",
   "execution_count": 11,
   "metadata": {},
   "outputs": [],
   "source": [
    "import pandas as pd"
   ]
  },
  {
   "cell_type": "code",
   "execution_count": 14,
   "metadata": {},
   "outputs": [
    {
     "data": {
      "text/html": [
       "<div>\n",
       "<style scoped>\n",
       "    .dataframe tbody tr th:only-of-type {\n",
       "        vertical-align: middle;\n",
       "    }\n",
       "\n",
       "    .dataframe tbody tr th {\n",
       "        vertical-align: top;\n",
       "    }\n",
       "\n",
       "    .dataframe thead th {\n",
       "        text-align: right;\n",
       "    }\n",
       "</style>\n",
       "<table border=\"1\" class=\"dataframe\">\n",
       "  <thead>\n",
       "    <tr style=\"text-align: right;\">\n",
       "      <th></th>\n",
       "      <th>0</th>\n",
       "      <th>1</th>\n",
       "      <th>2</th>\n",
       "    </tr>\n",
       "  </thead>\n",
       "  <tbody>\n",
       "    <tr>\n",
       "      <th>0</th>\n",
       "      <td>10.5</td>\n",
       "      <td>14.4</td>\n",
       "      <td>0.0</td>\n",
       "    </tr>\n",
       "    <tr>\n",
       "      <th>1</th>\n",
       "      <td>11.2</td>\n",
       "      <td>14.1</td>\n",
       "      <td>0.0</td>\n",
       "    </tr>\n",
       "    <tr>\n",
       "      <th>2</th>\n",
       "      <td>18.0</td>\n",
       "      <td>15.9</td>\n",
       "      <td>10.0</td>\n",
       "    </tr>\n",
       "    <tr>\n",
       "      <th>3</th>\n",
       "      <td>18.3</td>\n",
       "      <td>13.3</td>\n",
       "      <td>10.0</td>\n",
       "    </tr>\n",
       "    <tr>\n",
       "      <th>4</th>\n",
       "      <td>16.5</td>\n",
       "      <td>9.3</td>\n",
       "      <td>10.0</td>\n",
       "    </tr>\n",
       "    <tr>\n",
       "      <th>5</th>\n",
       "      <td>15.4</td>\n",
       "      <td>11.0</td>\n",
       "      <td>10.0</td>\n",
       "    </tr>\n",
       "    <tr>\n",
       "      <th>6</th>\n",
       "      <td>14.9</td>\n",
       "      <td>13.2</td>\n",
       "      <td>5.0</td>\n",
       "    </tr>\n",
       "    <tr>\n",
       "      <th>7</th>\n",
       "      <td>16.3</td>\n",
       "      <td>13.3</td>\n",
       "      <td>5.0</td>\n",
       "    </tr>\n",
       "    <tr>\n",
       "      <th>8</th>\n",
       "      <td>16.4</td>\n",
       "      <td>17.8</td>\n",
       "      <td>5.0</td>\n",
       "    </tr>\n",
       "    <tr>\n",
       "      <th>9</th>\n",
       "      <td>15.0</td>\n",
       "      <td>17.9</td>\n",
       "      <td>5.0</td>\n",
       "    </tr>\n",
       "    <tr>\n",
       "      <th>10</th>\n",
       "      <td>16.1</td>\n",
       "      <td>19.6</td>\n",
       "      <td>10.0</td>\n",
       "    </tr>\n",
       "    <tr>\n",
       "      <th>11</th>\n",
       "      <td>15.7</td>\n",
       "      <td>20.6</td>\n",
       "      <td>10.0</td>\n",
       "    </tr>\n",
       "    <tr>\n",
       "      <th>12</th>\n",
       "      <td>13.2</td>\n",
       "      <td>20.1</td>\n",
       "      <td>10.0</td>\n",
       "    </tr>\n",
       "    <tr>\n",
       "      <th>13</th>\n",
       "      <td>14.3</td>\n",
       "      <td>15.3</td>\n",
       "      <td>5.0</td>\n",
       "    </tr>\n",
       "    <tr>\n",
       "      <th>14</th>\n",
       "      <td>14.0</td>\n",
       "      <td>5.1</td>\n",
       "      <td>10.0</td>\n",
       "    </tr>\n",
       "    <tr>\n",
       "      <th>15</th>\n",
       "      <td>11.4</td>\n",
       "      <td>6.7</td>\n",
       "      <td>15.0</td>\n",
       "    </tr>\n",
       "    <tr>\n",
       "      <th>16</th>\n",
       "      <td>8.3</td>\n",
       "      <td>5.0</td>\n",
       "      <td>15.0</td>\n",
       "    </tr>\n",
       "    <tr>\n",
       "      <th>17</th>\n",
       "      <td>7.9</td>\n",
       "      <td>9.8</td>\n",
       "      <td>10.0</td>\n",
       "    </tr>\n",
       "    <tr>\n",
       "      <th>18</th>\n",
       "      <td>11.4</td>\n",
       "      <td>12.0</td>\n",
       "      <td>5.0</td>\n",
       "    </tr>\n",
       "    <tr>\n",
       "      <th>19</th>\n",
       "      <td>11.2</td>\n",
       "      <td>17.6</td>\n",
       "      <td>5.0</td>\n",
       "    </tr>\n",
       "    <tr>\n",
       "      <th>20</th>\n",
       "      <td>10.1</td>\n",
       "      <td>18.7</td>\n",
       "      <td>5.0</td>\n",
       "    </tr>\n",
       "    <tr>\n",
       "      <th>21</th>\n",
       "      <td>11.7</td>\n",
       "      <td>20.3</td>\n",
       "      <td>10.0</td>\n",
       "    </tr>\n",
       "    <tr>\n",
       "      <th>22</th>\n",
       "      <td>10.2</td>\n",
       "      <td>22.1</td>\n",
       "      <td>10.0</td>\n",
       "    </tr>\n",
       "    <tr>\n",
       "      <th>23</th>\n",
       "      <td>9.7</td>\n",
       "      <td>23.8</td>\n",
       "      <td>10.0</td>\n",
       "    </tr>\n",
       "    <tr>\n",
       "      <th>24</th>\n",
       "      <td>10.1</td>\n",
       "      <td>26.4</td>\n",
       "      <td>15.0</td>\n",
       "    </tr>\n",
       "    <tr>\n",
       "      <th>25</th>\n",
       "      <td>7.4</td>\n",
       "      <td>24.0</td>\n",
       "      <td>15.0</td>\n",
       "    </tr>\n",
       "    <tr>\n",
       "      <th>26</th>\n",
       "      <td>8.2</td>\n",
       "      <td>19.9</td>\n",
       "      <td>15.0</td>\n",
       "    </tr>\n",
       "    <tr>\n",
       "      <th>27</th>\n",
       "      <td>8.7</td>\n",
       "      <td>17.7</td>\n",
       "      <td>10.0</td>\n",
       "    </tr>\n",
       "    <tr>\n",
       "      <th>28</th>\n",
       "      <td>8.9</td>\n",
       "      <td>13.6</td>\n",
       "      <td>10.0</td>\n",
       "    </tr>\n",
       "    <tr>\n",
       "      <th>29</th>\n",
       "      <td>5.6</td>\n",
       "      <td>11.1</td>\n",
       "      <td>10.0</td>\n",
       "    </tr>\n",
       "    <tr>\n",
       "      <th>30</th>\n",
       "      <td>4.9</td>\n",
       "      <td>18.9</td>\n",
       "      <td>10.0</td>\n",
       "    </tr>\n",
       "    <tr>\n",
       "      <th>31</th>\n",
       "      <td>7.3</td>\n",
       "      <td>18.8</td>\n",
       "      <td>10.0</td>\n",
       "    </tr>\n",
       "    <tr>\n",
       "      <th>32</th>\n",
       "      <td>85.0</td>\n",
       "      <td>1.0</td>\n",
       "      <td>NaN</td>\n",
       "    </tr>\n",
       "  </tbody>\n",
       "</table>\n",
       "</div>"
      ],
      "text/plain": [
       "       0     1     2\n",
       "0   10.5  14.4   0.0\n",
       "1   11.2  14.1   0.0\n",
       "2   18.0  15.9  10.0\n",
       "3   18.3  13.3  10.0\n",
       "4   16.5   9.3  10.0\n",
       "5   15.4  11.0  10.0\n",
       "6   14.9  13.2   5.0\n",
       "7   16.3  13.3   5.0\n",
       "8   16.4  17.8   5.0\n",
       "9   15.0  17.9   5.0\n",
       "10  16.1  19.6  10.0\n",
       "11  15.7  20.6  10.0\n",
       "12  13.2  20.1  10.0\n",
       "13  14.3  15.3   5.0\n",
       "14  14.0   5.1  10.0\n",
       "15  11.4   6.7  15.0\n",
       "16   8.3   5.0  15.0\n",
       "17   7.9   9.8  10.0\n",
       "18  11.4  12.0   5.0\n",
       "19  11.2  17.6   5.0\n",
       "20  10.1  18.7   5.0\n",
       "21  11.7  20.3  10.0\n",
       "22  10.2  22.1  10.0\n",
       "23   9.7  23.8  10.0\n",
       "24  10.1  26.4  15.0\n",
       "25   7.4  24.0  15.0\n",
       "26   8.2  19.9  15.0\n",
       "27   8.7  17.7  10.0\n",
       "28   8.9  13.6  10.0\n",
       "29   5.6  11.1  10.0\n",
       "30   4.9  18.9  10.0\n",
       "31   7.3  18.8  10.0\n",
       "32  85.0   1.0   NaN"
      ]
     },
     "execution_count": 14,
     "metadata": {},
     "output_type": "execute_result"
    }
   ],
   "source": [
    "ruta='C:/Users/ggalv/Google Drive/Respaldo/Ayudantia Logistica/OP_Greedy/Instancias/tsiligirides_problem_1_budget_85.txt'\n",
    "archivo = pd.read_csv(ruta, header=None, delim_whitespace=True)\n",
    "archivo"
   ]
  },
  {
   "cell_type": "code",
   "execution_count": 15,
   "metadata": {},
   "outputs": [],
   "source": [
    "dist=[]\n",
    "for i in range(31):\n",
    "    a=archivo.iloc[i]\n",
    "    a=np.array(a)\n",
    "    a=np.delete(a,2)\n",
    "    for j in range(31):\n",
    "        if i!=j:\n",
    "            b=archivo.iloc[j]\n",
    "            b=np.array(b)\n",
    "            b=np.delete(b,2)\n",
    "            dist.append(int(np.linalg.norm(a-b)))\n",
    "        elif i==j:\n",
    "            dist.append(99999)"
   ]
  },
  {
   "cell_type": "code",
   "execution_count": 16,
   "metadata": {},
   "outputs": [
    {
     "name": "stdout",
     "output_type": "stream",
     "text": [
      "[99999, 0, 7, 7, 7, 5, 4, 5, 6, 5, 7, 8, 6, 3, 9, 7, 9, 5, 2, 3, 4, 6, 7, 9, 12, 10, 5, 3, 1, 5, 7, 0, 99999, 7, 7, 7, 5, 3, 5, 6, 5, 7, 7, 6, 3, 9, 7, 9, 5, 2, 3, 4, 6, 8, 9, 12, 10, 6, 4, 2, 6, 7, 7, 7, 99999, 2, 6, 5, 4, 3, 2, 3, 4, 5, 6, 3, 11, 11, 14, 11, 7, 7, 8, 7, 9, 11, 13, 13, 10, 9, 9, 13, 13, 7, 7, 2, 99999, 4, 3, 3, 2, 4, 5, 6, 7, 8, 4, 9, 9, 12, 10, 7, 8, 9, 9, 11, 13, 15, 15, 12, 10, 9, 12, 14, 7, 7, 6, 4, 99999, 2, 4, 4, 8, 8, 10, 11, 11, 6, 4, 5, 9, 8, 5, 9, 11, 12, 14, 16, 18, 17, 13, 11, 8, 11, 15, 5, 5, 5, 3, 2, 99999, 2, 2, 6, 6, 8, 9, 9, 4, 6, 5, 9, 7, 4, 7, 9, 10, 12, 14, 16, 15, 11, 9, 7, 9, 13, 4, 3, 4, 3, 4, 2, 99999, 1, 4, 4, 6, 7, 7, 2, 8, 7, 10, 7, 3, 5, 7, 7, 10, 11, 14, 13, 9, 7, 6, 9, 11, 5, 5, 3, 2, 4, 2, 1, 99999, 4, 4, 6, 7, 7, 2, 8, 8, 11, 9, 5, 6, 8, 8, 10, 12, 14, 13, 10, 8, 7, 10, 12, 6, 6, 2, 4, 8, 6, 4, 4, 99999, 1, 1, 2, 3, 3, 12, 12, 15, 11, 7, 5, 6, 5, 7, 8, 10, 10, 8, 7, 8, 12, 11, 5, 5, 3, 5, 8, 6, 4, 4, 1, 99999, 2, 2, 2, 2, 12, 11, 14, 10, 6, 3, 4, 4, 6, 7, 9, 9, 7, 6, 7, 11, 10, 7, 7, 4, 6, 10, 8, 6, 6, 1, 2, 99999, 1, 2, 4, 14, 13, 16, 12, 8, 5, 6, 4, 6, 7, 9, 9, 7, 7, 9, 13, 11, 8, 7, 5, 7, 11, 9, 7, 7, 2, 2, 1, 99999, 2, 5, 15, 14, 17, 13, 9, 5, 5, 4, 5, 6, 8, 8, 7, 7, 9, 13, 10, 6, 6, 6, 8, 11, 9, 7, 7, 3, 2, 2, 2, 99999, 4, 15, 13, 15, 11, 8, 3, 3, 1, 3, 5, 7, 6, 5, 5, 7, 11, 8, 3, 3, 3, 4, 6, 4, 2, 2, 3, 2, 4, 5, 4, 99999, 10, 9, 11, 8, 4, 3, 5, 5, 7, 9, 11, 11, 7, 6, 5, 9, 10, 9, 9, 11, 9, 4, 6, 8, 8, 12, 12, 14, 15, 15, 10, 99999, 3, 5, 7, 7, 12, 14, 15, 17, 19, 21, 20, 15, 13, 9, 10, 16, 7, 7, 11, 9, 5, 5, 7, 8, 12, 11, 13, 14, 13, 9, 3, 99999, 3, 4, 5, 10, 12, 13, 15, 17, 19, 17, 13, 11, 7, 7, 13, 9, 9, 14, 12, 9, 9, 10, 11, 15, 14, 16, 17, 15, 11, 5, 3, 99999, 4, 7, 12, 13, 15, 17, 18, 21, 19, 14, 12, 8, 6, 14, 5, 5, 11, 10, 8, 7, 7, 9, 11, 10, 12, 13, 11, 8, 7, 4, 4, 99999, 4, 8, 9, 11, 12, 14, 16, 14, 10, 7, 3, 2, 9, 2, 2, 7, 7, 5, 4, 3, 5, 7, 6, 8, 9, 8, 4, 7, 5, 7, 4, 99999, 5, 6, 8, 10, 11, 14, 12, 8, 6, 2, 5, 9, 3, 3, 7, 8, 9, 7, 5, 6, 5, 3, 5, 5, 3, 3, 12, 10, 12, 8, 5, 99999, 1, 2, 4, 6, 8, 7, 3, 2, 4, 8, 6, 4, 4, 8, 9, 11, 9, 7, 8, 6, 4, 6, 5, 3, 5, 14, 12, 13, 9, 6, 1, 99999, 2, 3, 5, 7, 5, 2, 1, 5, 8, 5, 6, 6, 7, 9, 12, 10, 7, 8, 5, 4, 4, 4, 1, 5, 15, 13, 15, 11, 8, 2, 2, 99999, 2, 4, 6, 5, 3, 3, 7, 11, 6, 7, 8, 9, 11, 14, 12, 10, 10, 7, 6, 6, 5, 3, 7, 17, 15, 17, 12, 10, 4, 3, 2, 99999, 1, 4, 3, 2, 4, 8, 11, 6, 9, 9, 11, 13, 16, 14, 11, 12, 8, 7, 7, 6, 5, 9, 19, 17, 18, 14, 11, 6, 5, 4, 1, 99999, 2, 2, 4, 6, 10, 13, 6, 12, 12, 13, 15, 18, 16, 14, 14, 10, 9, 9, 8, 7, 11, 21, 19, 21, 16, 14, 8, 7, 6, 4, 2, 99999, 3, 6, 8, 12, 15, 9, 10, 10, 13, 15, 17, 15, 13, 13, 10, 9, 9, 8, 6, 11, 20, 17, 19, 14, 12, 7, 5, 5, 3, 2, 3, 99999, 4, 6, 10, 13, 5, 5, 6, 10, 12, 13, 11, 9, 10, 8, 7, 7, 7, 5, 7, 15, 13, 14, 10, 8, 3, 2, 3, 2, 4, 6, 4, 99999, 2, 6, 9, 3, 3, 4, 9, 10, 11, 9, 7, 8, 7, 6, 7, 7, 5, 6, 13, 11, 12, 7, 6, 2, 1, 3, 4, 6, 8, 6, 2, 99999, 4, 7, 3, 1, 2, 9, 9, 8, 7, 6, 7, 8, 7, 9, 9, 7, 5, 9, 7, 8, 3, 2, 4, 5, 7, 8, 10, 12, 10, 6, 4, 99999, 4, 6, 5, 6, 13, 12, 11, 9, 9, 10, 12, 11, 13, 13, 11, 9, 10, 7, 6, 2, 5, 8, 8, 11, 11, 13, 15, 13, 9, 7, 4, 99999, 7, 7, 7, 13, 14, 15, 13, 11, 12, 11, 10, 11, 10, 8, 10, 16, 13, 14, 9, 9, 6, 5, 6, 6, 6, 9, 5, 3, 3, 6, 7, 99999]\n"
     ]
    }
   ],
   "source": [
    "print(dist)"
   ]
  },
  {
   "cell_type": "code",
   "execution_count": 17,
   "metadata": {},
   "outputs": [
    {
     "name": "stdout",
     "output_type": "stream",
     "text": [
      "[[99999     0     7     7     7     5     4     5     6     5     7     8\n",
      "      6     3     9     7     9     5     2     3     4     6     7     9\n",
      "     12    10     5     3     1     5     7]\n",
      " [    0 99999     7     7     7     5     3     5     6     5     7     7\n",
      "      6     3     9     7     9     5     2     3     4     6     8     9\n",
      "     12    10     6     4     2     6     7]\n",
      " [    7     7 99999     2     6     5     4     3     2     3     4     5\n",
      "      6     3    11    11    14    11     7     7     8     7     9    11\n",
      "     13    13    10     9     9    13    13]\n",
      " [    7     7     2 99999     4     3     3     2     4     5     6     7\n",
      "      8     4     9     9    12    10     7     8     9     9    11    13\n",
      "     15    15    12    10     9    12    14]\n",
      " [    7     7     6     4 99999     2     4     4     8     8    10    11\n",
      "     11     6     4     5     9     8     5     9    11    12    14    16\n",
      "     18    17    13    11     8    11    15]\n",
      " [    5     5     5     3     2 99999     2     2     6     6     8     9\n",
      "      9     4     6     5     9     7     4     7     9    10    12    14\n",
      "     16    15    11     9     7     9    13]\n",
      " [    4     3     4     3     4     2 99999     1     4     4     6     7\n",
      "      7     2     8     7    10     7     3     5     7     7    10    11\n",
      "     14    13     9     7     6     9    11]\n",
      " [    5     5     3     2     4     2     1 99999     4     4     6     7\n",
      "      7     2     8     8    11     9     5     6     8     8    10    12\n",
      "     14    13    10     8     7    10    12]\n",
      " [    6     6     2     4     8     6     4     4 99999     1     1     2\n",
      "      3     3    12    12    15    11     7     5     6     5     7     8\n",
      "     10    10     8     7     8    12    11]\n",
      " [    5     5     3     5     8     6     4     4     1 99999     2     2\n",
      "      2     2    12    11    14    10     6     3     4     4     6     7\n",
      "      9     9     7     6     7    11    10]\n",
      " [    7     7     4     6    10     8     6     6     1     2 99999     1\n",
      "      2     4    14    13    16    12     8     5     6     4     6     7\n",
      "      9     9     7     7     9    13    11]\n",
      " [    8     7     5     7    11     9     7     7     2     2     1 99999\n",
      "      2     5    15    14    17    13     9     5     5     4     5     6\n",
      "      8     8     7     7     9    13    10]\n",
      " [    6     6     6     8    11     9     7     7     3     2     2     2\n",
      "  99999     4    15    13    15    11     8     3     3     1     3     5\n",
      "      7     6     5     5     7    11     8]\n",
      " [    3     3     3     4     6     4     2     2     3     2     4     5\n",
      "      4 99999    10     9    11     8     4     3     5     5     7     9\n",
      "     11    11     7     6     5     9    10]\n",
      " [    9     9    11     9     4     6     8     8    12    12    14    15\n",
      "     15    10 99999     3     5     7     7    12    14    15    17    19\n",
      "     21    20    15    13     9    10    16]\n",
      " [    7     7    11     9     5     5     7     8    12    11    13    14\n",
      "     13     9     3 99999     3     4     5    10    12    13    15    17\n",
      "     19    17    13    11     7     7    13]\n",
      " [    9     9    14    12     9     9    10    11    15    14    16    17\n",
      "     15    11     5     3 99999     4     7    12    13    15    17    18\n",
      "     21    19    14    12     8     6    14]\n",
      " [    5     5    11    10     8     7     7     9    11    10    12    13\n",
      "     11     8     7     4     4 99999     4     8     9    11    12    14\n",
      "     16    14    10     7     3     2     9]\n",
      " [    2     2     7     7     5     4     3     5     7     6     8     9\n",
      "      8     4     7     5     7     4 99999     5     6     8    10    11\n",
      "     14    12     8     6     2     5     9]\n",
      " [    3     3     7     8     9     7     5     6     5     3     5     5\n",
      "      3     3    12    10    12     8     5 99999     1     2     4     6\n",
      "      8     7     3     2     4     8     6]\n",
      " [    4     4     8     9    11     9     7     8     6     4     6     5\n",
      "      3     5    14    12    13     9     6     1 99999     2     3     5\n",
      "      7     5     2     1     5     8     5]\n",
      " [    6     6     7     9    12    10     7     8     5     4     4     4\n",
      "      1     5    15    13    15    11     8     2     2 99999     2     4\n",
      "      6     5     3     3     7    11     6]\n",
      " [    7     8     9    11    14    12    10    10     7     6     6     5\n",
      "      3     7    17    15    17    12    10     4     3     2 99999     1\n",
      "      4     3     2     4     8    11     6]\n",
      " [    9     9    11    13    16    14    11    12     8     7     7     6\n",
      "      5     9    19    17    18    14    11     6     5     4     1 99999\n",
      "      2     2     4     6    10    13     6]\n",
      " [   12    12    13    15    18    16    14    14    10     9     9     8\n",
      "      7    11    21    19    21    16    14     8     7     6     4     2\n",
      "  99999     3     6     8    12    15     9]\n",
      " [   10    10    13    15    17    15    13    13    10     9     9     8\n",
      "      6    11    20    17    19    14    12     7     5     5     3     2\n",
      "      3 99999     4     6    10    13     5]\n",
      " [    5     6    10    12    13    11     9    10     8     7     7     7\n",
      "      5     7    15    13    14    10     8     3     2     3     2     4\n",
      "      6     4 99999     2     6     9     3]\n",
      " [    3     4     9    10    11     9     7     8     7     6     7     7\n",
      "      5     6    13    11    12     7     6     2     1     3     4     6\n",
      "      8     6     2 99999     4     7     3]\n",
      " [    1     2     9     9     8     7     6     7     8     7     9     9\n",
      "      7     5     9     7     8     3     2     4     5     7     8    10\n",
      "     12    10     6     4 99999     4     6]\n",
      " [    5     6    13    12    11     9     9    10    12    11    13    13\n",
      "     11     9    10     7     6     2     5     8     8    11    11    13\n",
      "     15    13     9     7     4 99999     7]\n",
      " [    7     7    13    14    15    13    11    12    11    10    11    10\n",
      "      8    10    16    13    14     9     9     6     5     6     6     6\n",
      "      9     5     3     3     6     7 99999]]\n"
     ]
    }
   ],
   "source": [
    "distancias=np.array(dist)\n",
    "distancias=distancias.reshape(31,31)\n",
    "print(distancias)"
   ]
  },
  {
   "cell_type": "code",
   "execution_count": null,
   "metadata": {},
   "outputs": [],
   "source": []
  }
 ],
 "metadata": {
  "kernelspec": {
   "display_name": "Python 3",
   "language": "python",
   "name": "python3"
  },
  "language_info": {
   "codemirror_mode": {
    "name": "ipython",
    "version": 3
   },
   "file_extension": ".py",
   "mimetype": "text/x-python",
   "name": "python",
   "nbconvert_exporter": "python",
   "pygments_lexer": "ipython3",
   "version": "3.5.5"
  }
 },
 "nbformat": 4,
 "nbformat_minor": 2
}
