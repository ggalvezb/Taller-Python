{
 "cells": [
  {
   "cell_type": "markdown",
   "metadata": {},
   "source": [
    "# Introduccion a Python"
   ]
  },
  {
   "cell_type": "markdown",
   "metadata": {},
   "source": [
    "Este lenguaje fue introducido por Guido Von Russum en 1990 y su versión 3.0 fue lanzada en 2008"
   ]
  },
  {
   "cell_type": "markdown",
   "metadata": {},
   "source": [
    "Existen muchas formas para compilar en python, la más popular es usar el motor de Anaconda.\n",
    "\n",
    "Por otro lado se puede usar como editor de texto:\n",
    "* Spyder (Viene al isntalar Anaconda)\n",
    "* Sublime Text\n",
    "* Jupyter Notebook\n",
    "\n"
   ]
  },
  {
   "cell_type": "markdown",
   "metadata": {},
   "source": [
    "En python usualemnte se usan muchas librerias diferentes, para una instalación rápida de estas, es necesario crear un ambiente de python en el computador, para ello debemos tener una conexción a internet y tener instalado el Anaconda en el computador.\n",
    "\n",
    "Crear ambiente de python 3.5:\n",
    "\t* Abrir Anaconda Prompt(consola) como ADMINISTRADOR\n",
    "\t* Tipiar: conda create -n py35 python=3.5\n",
    "\t* Tipiar: activate py35\n",
    "\n"
   ]
  },
  {
   "cell_type": "markdown",
   "metadata": {},
   "source": [
    "- Para utilizar sublime como como editor de texto:\n",
    "\n",
    "1) Abrir Sublime Text, guardar archivo como xxxxxxxx.py, programar sin problemas. \n",
    "\n",
    "2) Para ejecutarlo:\n",
    "\t- Abrir nuevamente Anaconda Prompt y tipiar \"Activate py35\"\n",
    "\t- Ubicar direccion del archivo a ejecutar\n",
    "\t- Tipiar en consola \"cd direcion del archivo\"\n",
    "\t- Tipiar \"python xxxxxxx.py\""
   ]
  },
  {
   "cell_type": "markdown",
   "metadata": {},
   "source": [
    "* Para utilizar Jupyter Notebook:\n",
    "    - Abrir Anaconda Prompt(consola)\n",
    "    - Tipiar: activate py35\n",
    "    - Tipiar: jupyter notebook\n",
    "    \n",
    "Se abrira el navegador predeterminado y se ejecutará jupyter como localhost    "
   ]
  },
  {
   "cell_type": "markdown",
   "metadata": {},
   "source": [
    "# Tipos de Datos y Operadores"
   ]
  },
  {
   "cell_type": "markdown",
   "metadata": {},
   "source": [
    "* Los operadores son: \n",
    "    - Suma(+)\n",
    "    - Resta(-)\n",
    "    - Multiplicacion (*)\n",
    "    - Division (/)\n",
    "    - División Entera (//)\n",
    "    - Elevado (**)\n",
    "    - Modulo (%)"
   ]
  },
  {
   "cell_type": "markdown",
   "metadata": {},
   "source": [
    "* Tipos de Datos:\n",
    "    - Enteros (Int)\n",
    "    - Flotantes (Float)\n",
    "    - Booleanos (Bool)\n",
    "    - Cadenas (Strings)"
   ]
  },
  {
   "cell_type": "code",
   "execution_count": 3,
   "metadata": {},
   "outputs": [
    {
     "name": "stdout",
     "output_type": "stream",
     "text": [
      "10 13.1415 hola mundo True\n",
      "\n",
      "\n",
      "Entero:10\n",
      " Real:13.1415\n",
      " Cadena:hola mundo\n",
      " Booleano:True\n"
     ]
    }
   ],
   "source": [
    "num_entero,num_real,tipo_cadena=10,13.1415,\"hola mundo\"\n",
    "tipo_bool=True\n",
    "print(num_entero,num_real,tipo_cadena,tipo_bool)\n",
    "print(\"\\n\")\n",
    "print(\"Entero:\"+str(num_entero)+\"\\n Real:\"+str(num_real)+\"\\n Cadena:\"+str(tipo_cadena)+\"\\n Booleano:\"+str(tipo_bool))\n"
   ]
  },
  {
   "cell_type": "code",
   "execution_count": 32,
   "metadata": {},
   "outputs": [
    {
     "data": {
      "text/plain": [
       "str"
      ]
     },
     "execution_count": 32,
     "metadata": {},
     "output_type": "execute_result"
    }
   ],
   "source": [
    "type(\"a\")"
   ]
  },
  {
   "cell_type": "code",
   "execution_count": 4,
   "metadata": {},
   "outputs": [
    {
     "data": {
      "text/plain": [
       "float"
      ]
     },
     "execution_count": 4,
     "metadata": {},
     "output_type": "execute_result"
    }
   ],
   "source": [
    "type(3*4.6)"
   ]
  },
  {
   "cell_type": "code",
   "execution_count": 6,
   "metadata": {},
   "outputs": [
    {
     "name": "stdout",
     "output_type": "stream",
     "text": [
      "750.0\n",
      "<class 'float'>\n"
     ]
    }
   ],
   "source": [
    "base=30\n",
    "altura=50\n",
    "superficie=base*altura/2\n",
    "print(superficie)\n",
    "print(type(superficie))\n"
   ]
  },
  {
   "cell_type": "markdown",
   "metadata": {},
   "source": [
    "# Casteo"
   ]
  },
  {
   "cell_type": "code",
   "execution_count": 8,
   "metadata": {},
   "outputs": [
    {
     "name": "stdout",
     "output_type": "stream",
     "text": [
      "Enter an int: 10\n",
      "<class 'str'>\n",
      "10  is NOT an integer\n"
     ]
    }
   ],
   "source": [
    "n = input(\"Enter an int: \")\n",
    "print(type(n))\n",
    "if type(n) == int:\n",
    "    print(n,\" is an integer\")\n",
    "else:\n",
    "    print(n,\" is NOT an integer\") "
   ]
  },
  {
   "cell_type": "code",
   "execution_count": 9,
   "metadata": {},
   "outputs": [
    {
     "name": "stdout",
     "output_type": "stream",
     "text": [
      "Enter an int: 10\n",
      "10.0  is a float\n"
     ]
    }
   ],
   "source": [
    "n = float(input(\"Enter an int: \"))\n",
    "if type(n) == float:\n",
    "    print(n,\" is a float\")\n",
    "else:\n",
    "    print(n,\" is NOT an integer\")"
   ]
  },
  {
   "cell_type": "markdown",
   "metadata": {},
   "source": [
    "# Tuplas"
   ]
  },
  {
   "cell_type": "code",
   "execution_count": 13,
   "metadata": {},
   "outputs": [
    {
     "name": "stdout",
     "output_type": "stream",
     "text": [
      "Indice cero\n",
      "3.0\n",
      "Indice tres\n",
      "3.0\n",
      "(3.0,)\n"
     ]
    },
    {
     "ename": "TypeError",
     "evalue": "'tuple' object does not support item assignment",
     "output_type": "error",
     "traceback": [
      "\u001b[1;31m---------------------------------------------------------------------------\u001b[0m",
      "\u001b[1;31mTypeError\u001b[0m                                 Traceback (most recent call last)",
      "\u001b[1;32m<ipython-input-13-fd792fe3f60b>\u001b[0m in \u001b[0;36m<module>\u001b[1;34m()\u001b[0m\n\u001b[0;32m      5\u001b[0m \u001b[0mprint\u001b[0m\u001b[1;33m(\u001b[0m\u001b[0mmi_tupla\u001b[0m\u001b[1;33m[\u001b[0m\u001b[1;33m-\u001b[0m\u001b[1;36m2\u001b[0m\u001b[1;33m]\u001b[0m\u001b[1;33m)\u001b[0m\u001b[1;33m\u001b[0m\u001b[0m\n\u001b[0;32m      6\u001b[0m \u001b[0mprint\u001b[0m\u001b[1;33m(\u001b[0m\u001b[0mmi_tupla\u001b[0m\u001b[1;33m[\u001b[0m\u001b[1;36m2\u001b[0m\u001b[1;33m:\u001b[0m\u001b[1;36m3\u001b[0m\u001b[1;33m]\u001b[0m\u001b[1;33m)\u001b[0m\u001b[1;33m\u001b[0m\u001b[0m\n\u001b[1;32m----> 7\u001b[1;33m \u001b[0mmi_tupla\u001b[0m\u001b[1;33m[\u001b[0m\u001b[1;36m0\u001b[0m\u001b[1;33m]\u001b[0m\u001b[1;33m=\u001b[0m\u001b[1;36m5\u001b[0m\u001b[1;33m\u001b[0m\u001b[0m\n\u001b[0m",
      "\u001b[1;31mTypeError\u001b[0m: 'tuple' object does not support item assignment"
     ]
    }
   ],
   "source": [
    "mi_tupla=('Indice cero', 2, 3.0, 'Indice tres')\n",
    "print(mi_tupla[0])\n",
    "print(mi_tupla[2])\n",
    "print(mi_tupla[-1])\n",
    "print(mi_tupla[-2])\n",
    "print(mi_tupla[2:3])\n",
    "mi_tupla[0]=5"
   ]
  },
  {
   "cell_type": "code",
   "execution_count": 15,
   "metadata": {},
   "outputs": [
    {
     "name": "stdout",
     "output_type": "stream",
     "text": [
      "(1, 'dos', 3)\n",
      "((1, 'dos', 3), 2.25)\n",
      "(1, 'dos', 3, (1, 'dos', 3), 2.25)\n",
      "1\n"
     ]
    }
   ],
   "source": [
    "t1=(1,'dos',3)\n",
    "t2=(t1,2.25)\n",
    "print(t1)\n",
    "print(t2)\n",
    "t3=t1+t2\n",
    "print(t3)\n",
    "print(t3[3][0])"
   ]
  },
  {
   "cell_type": "markdown",
   "metadata": {},
   "source": [
    "# Listas"
   ]
  },
  {
   "cell_type": "code",
   "execution_count": 16,
   "metadata": {},
   "outputs": [
    {
     "name": "stdout",
     "output_type": "stream",
     "text": [
      "True\n",
      "[24, 13.14]\n",
      "['Indice cero', False, 13.14, True, [1, 2]]\n",
      "['Indice cero', False, 13.14, True, [1, 2], 'nuevo item']\n"
     ]
    }
   ],
   "source": [
    "mi_lista=['Indice cero',24,13.14,True,[1,2]]\n",
    "print(mi_lista[3])\n",
    "print(mi_lista[1:3])\n",
    "mi_lista[1]=False\n",
    "print(mi_lista)\n",
    "mi_lista.append('nuevo item')\n",
    "print(mi_lista)"
   ]
  },
  {
   "cell_type": "markdown",
   "metadata": {},
   "source": [
    "# Diccionario"
   ]
  },
  {
   "cell_type": "code",
   "execution_count": 28,
   "metadata": {},
   "outputs": [
    {
     "name": "stdout",
     "output_type": "stream",
     "text": [
      "{(1, 2): [5, 6, 7], 'clave3': 3.33, 'clave2': 2}\n"
     ]
    },
    {
     "ename": "KeyError",
     "evalue": "2",
     "output_type": "error",
     "traceback": [
      "\u001b[1;31m---------------------------------------------------------------------------\u001b[0m",
      "\u001b[1;31mKeyError\u001b[0m                                  Traceback (most recent call last)",
      "\u001b[1;32m<ipython-input-28-c56ce7f52b9f>\u001b[0m in \u001b[0;36m<module>\u001b[1;34m()\u001b[0m\n\u001b[0;32m      4\u001b[0m \u001b[0mprint\u001b[0m\u001b[1;33m(\u001b[0m\u001b[0mmi_diccionario\u001b[0m\u001b[1;33m)\u001b[0m\u001b[1;33m\u001b[0m\u001b[0m\n\u001b[0;32m      5\u001b[0m \u001b[0mmi_diccionario\u001b[0m\u001b[1;33m[\u001b[0m\u001b[1;33m(\u001b[0m\u001b[1;36m1\u001b[0m\u001b[1;33m,\u001b[0m \u001b[1;36m2\u001b[0m\u001b[1;33m)\u001b[0m\u001b[1;33m]\u001b[0m\u001b[1;33m[\u001b[0m\u001b[1;36m0\u001b[0m\u001b[1;33m]\u001b[0m\u001b[1;33m=\u001b[0m\u001b[1;36m8\u001b[0m\u001b[1;33m\u001b[0m\u001b[0m\n\u001b[1;32m----> 6\u001b[1;33m \u001b[0mprint\u001b[0m\u001b[1;33m(\u001b[0m\u001b[0mmi_diccionario\u001b[0m\u001b[1;33m[\u001b[0m\u001b[1;36m2\u001b[0m\u001b[1;33m]\u001b[0m\u001b[1;33m)\u001b[0m\u001b[1;33m\u001b[0m\u001b[0m\n\u001b[0m",
      "\u001b[1;31mKeyError\u001b[0m: 2"
     ]
    }
   ],
   "source": [
    "mi_diccionario={'clave1':'valor1','clave2':2,'clave3':3.33}\n",
    "del(mi_diccionario['clave1'])\n",
    "mi_diccionario[(1,2)]=[5,6,7]\n",
    "print(mi_diccionario)\n",
    "mi_diccionario[(1, 2)][0]=8\n",
    "print(mi_diccionario[2])\n"
   ]
  },
  {
   "cell_type": "code",
   "execution_count": 27,
   "metadata": {},
   "outputs": [
    {
     "name": "stdout",
     "output_type": "stream",
     "text": [
      "the third month is Mar\n",
      "Apr and Jan are  3 months apart\n"
     ]
    }
   ],
   "source": [
    "monthNumbers = {'Jan': 1, 'Feb': 2, 'Mar' : 3, 'Apr': 4, 'May': 5,\n",
    "               1: 'Jan', 2: 'Feb', 3: 'Mar', 4: 'Apr', 5: 'May'}\n",
    "\n",
    "print('the third month is ' + monthNumbers[3])\n",
    "dist = monthNumbers['Apr'] - monthNumbers['Jan']\n",
    "print('Apr and Jan are ', dist, 'months apart')"
   ]
  },
  {
   "cell_type": "code",
   "execution_count": 30,
   "metadata": {},
   "outputs": [
    {
     "data": {
      "text/plain": [
       "dict_keys([3, 1, 2, 'May', 'Mar', 5, 'Jan', 'Apr', 'Feb', 4])"
      ]
     },
     "execution_count": 30,
     "metadata": {},
     "output_type": "execute_result"
    }
   ],
   "source": [
    "monthNumbers.keys()"
   ]
  },
  {
   "cell_type": "code",
   "execution_count": 59,
   "metadata": {},
   "outputs": [
    {
     "data": {
      "text/plain": [
       "{('Jun', 'Summer'): 'Hot',\n",
       " 1: 'Jan',\n",
       " 2: 'Feb',\n",
       " 3: 'Mar',\n",
       " 4: 'Apr',\n",
       " 5: 'May',\n",
       " 'Apr': 4,\n",
       " 'Feb': 2,\n",
       " 'Jan': 1,\n",
       " 'Mar': 3,\n",
       " 'May': 5}"
      ]
     },
     "execution_count": 59,
     "metadata": {},
     "output_type": "execute_result"
    }
   ],
   "source": [
    "monthNumbers[('Jun', 'Summer')] = 'Hot'\n",
    "monthNumbers"
   ]
  },
  {
   "cell_type": "markdown",
   "metadata": {},
   "source": [
    "# Estructura If"
   ]
  },
  {
   "cell_type": "code",
   "execution_count": 37,
   "metadata": {},
   "outputs": [
    {
     "name": "stdout",
     "output_type": "stream",
     "text": [
      "numero positivo\n"
     ]
    }
   ],
   "source": [
    "numero=0\n",
    "if numero==0:\n",
    "    print('numero positivo')\n",
    "elif numero<0:\n",
    "    print('numero negativo')\n",
    "else:\n",
    "    print('numero es cero')"
   ]
  },
  {
   "cell_type": "markdown",
   "metadata": {},
   "source": [
    "# Estructura While"
   ]
  },
  {
   "cell_type": "code",
   "execution_count": 40,
   "metadata": {},
   "outputs": [
    {
     "name": "stdout",
     "output_type": "stream",
     "text": [
      "Digite un numero5\n",
      "numero positivo\n",
      "Digite un numero5\n",
      "numero positivo\n",
      "Digite un numero3\n",
      "numero positivo\n",
      "Digite un numero21\n",
      "numero positivo\n",
      "Digite un numero0\n",
      "numero es cero\n"
     ]
    }
   ],
   "source": [
    "respuesta='si'\n",
    "numero=0\n",
    "i=0\n",
    "while True:\n",
    "    numero=int(input('Digite un numero'))\n",
    "    if numero>0:\n",
    "        print('numero positivo')\n",
    "    elif numero<0:\n",
    "        print('numero negativo')\n",
    "    else:\n",
    "        print('numero es cero')\n",
    "        break   "
   ]
  },
  {
   "cell_type": "markdown",
   "metadata": {},
   "source": [
    "# Estructura For"
   ]
  },
  {
   "cell_type": "code",
   "execution_count": 50,
   "metadata": {},
   "outputs": [
    {
     "name": "stdout",
     "output_type": "stream",
     "text": [
      "[1, 2, 3, 4]\n",
      "i=  0\n",
      "1\n",
      "i=  1\n",
      "2\n",
      "i=  2\n",
      "3\n",
      "i=  3\n",
      "4\n",
      "[1, 2, 0, 1]\n"
     ]
    }
   ],
   "source": [
    "mi_lista=[1,2,3,4]\n",
    "\n",
    "# for numeros in mi_lista:\n",
    "#     print(numeros)\n",
    "\n",
    "\n",
    "print(mi_lista)\n",
    "for i in range(len(mi_lista)):\n",
    "    print('i= ',i)\n",
    "    print(mi_lista[i])\n",
    "    mi_lista[i]=mi_lista[i]%3\n",
    "print(mi_lista)"
   ]
  },
  {
   "cell_type": "code",
   "execution_count": 52,
   "metadata": {},
   "outputs": [
    {
     "name": "stdout",
     "output_type": "stream",
     "text": [
      "<enumerate object at 0x00000254857BEA20>\n",
      "i= 0 j= 5\n",
      "i= 1 j= 6\n",
      "i= 2 j= 7\n",
      "i= 3 j= 8\n",
      "i= 4 j= 9\n"
     ]
    }
   ],
   "source": [
    "x = 10\n",
    "print(enumerate(range(5,x)))\n",
    "for i, j in enumerate(range(5,x)):\n",
    "    print(\"i=\",i, \"j=\",j)"
   ]
  },
  {
   "cell_type": "markdown",
   "metadata": {},
   "source": [
    "# Funciones"
   ]
  },
  {
   "cell_type": "code",
   "execution_count": 54,
   "metadata": {},
   "outputs": [
    {
     "name": "stdout",
     "output_type": "stream",
     "text": [
      "gonzalo galvez\n",
      "()\n",
      "galvez gonzalo\n",
      "()\n"
     ]
    }
   ],
   "source": [
    "def imprimir_nombre(primer_nombre, apellido, inverso=False):\n",
    "    if inverso:\n",
    "        print(apellido+\" \"+primer_nombre)\n",
    "    else:\n",
    "        print(primer_nombre,apellido)\n",
    "    return()\n",
    "print(imprimir_nombre('gonzalo','galvez'))\n",
    "print(imprimir_nombre('gonzalo','galvez',True))"
   ]
  },
  {
   "cell_type": "code",
   "execution_count": 52,
   "metadata": {},
   "outputs": [],
   "source": [
    "def max_(x, y):\n",
    "    if x > y:\n",
    "        return x\n",
    "    else:\n",
    "        return y"
   ]
  },
  {
   "cell_type": "code",
   "execution_count": 53,
   "metadata": {},
   "outputs": [
    {
     "data": {
      "text/plain": [
       "7"
      ]
     },
     "execution_count": 53,
     "metadata": {},
     "output_type": "execute_result"
    }
   ],
   "source": [
    "max_(7,4)"
   ]
  },
  {
   "cell_type": "markdown",
   "metadata": {},
   "source": [
    "## Scoping"
   ]
  },
  {
   "cell_type": "code",
   "execution_count": 54,
   "metadata": {},
   "outputs": [
    {
     "name": "stdout",
     "output_type": "stream",
     "text": [
      "x = 8\n",
      "z = 8\n",
      "x = 3\n",
      "y = 2\n"
     ]
    }
   ],
   "source": [
    "def f(x):\n",
    "    y = 5\n",
    "    x = x + y\n",
    "    print(\"x =\", x)\n",
    "    return x\n",
    "\n",
    "x = 3\n",
    "y = 2\n",
    "z = f(x)\n",
    "print(\"z =\", z)\n",
    "print(\"x =\", x)\n",
    "print(\"y =\", y)"
   ]
  },
  {
   "cell_type": "markdown",
   "metadata": {},
   "source": [
    "# Serie de Fibonaci"
   ]
  },
  {
   "cell_type": "code",
   "execution_count": 55,
   "metadata": {},
   "outputs": [
    {
     "name": "stdout",
     "output_type": "stream",
     "text": [
      "fibonacci of  0 = 1\n",
      "fibonacci of  1 = 1\n",
      "fibonacci of  2 = 2\n",
      "fibonacci of  3 = 3\n",
      "fibonacci of  4 = 5\n",
      "fibonacci of  5 = 8\n"
     ]
    }
   ],
   "source": [
    "def fib(n):\n",
    "    \"\"\"\n",
    "    Assumes n an int >= 0\n",
    "    Returns Fibonacci of n\n",
    "    \"\"\"\n",
    "    if n == 0 or n == 1:\n",
    "        return 1\n",
    "    else:\n",
    "        return fib(n-1) + fib(n-2)\n",
    "\n",
    "def testFib(n):\n",
    "    for i in range(n+1):\n",
    "        print(\"fibonacci of \", i, '=' ,fib(i))\n",
    "        \n",
    "testFib(5)"
   ]
  },
  {
   "cell_type": "markdown",
   "metadata": {},
   "source": [
    "# List comprehension"
   ]
  },
  {
   "cell_type": "code",
   "execution_count": 56,
   "metadata": {},
   "outputs": [
    {
     "name": "stdout",
     "output_type": "stream",
     "text": [
      "[1, 4, 9, 16, 25, 36]\n",
      "[1, 4, 9, 16, 25, 36]\n"
     ]
    }
   ],
   "source": [
    "L = [x**2 for x in range(1,7)]\n",
    "print(L)\n",
    "\n",
    "\n",
    "result=[]\n",
    "for i in range(1,7):\n",
    "    result.append(i**2)\n",
    "print(result)"
   ]
  },
  {
   "cell_type": "code",
   "execution_count": 57,
   "metadata": {},
   "outputs": [
    {
     "name": "stdout",
     "output_type": "stream",
     "text": [
      "[1, 4, 9]\n"
     ]
    }
   ],
   "source": [
    "mixed = [1,2,\"a\",3,4.2]\n",
    "print([x**2 for x in mixed if type(x) == int])"
   ]
  },
  {
   "cell_type": "markdown",
   "metadata": {},
   "source": [
    "# Objetos"
   ]
  },
  {
   "cell_type": "code",
   "execution_count": 60,
   "metadata": {},
   "outputs": [],
   "source": [
    "import datetime\n",
    "\n",
    "class Person(object):\n",
    "    def __init__(self, name):\n",
    "        '''\n",
    "        Creates a person with name name\n",
    "        '''\n",
    "        self.name = name\n",
    "        try:\n",
    "            lastBlank = name.rindex(' ')\n",
    "            self.lastName = name[lastBlank+1:]\n",
    "        except:\n",
    "            self.lastName = name\n",
    "        self.birthDay = None\n",
    "        \n",
    "    def getLastName(self):\n",
    "        '''\n",
    "        returns self's last name\n",
    "        '''\n",
    "        return self.lastName\n",
    "    \n",
    "    def setBirthDay(self, birthDate):\n",
    "        '''\n",
    "        Assume birthDate is of type datetime.date\n",
    "        set self's birthday to birthDate \n",
    "        '''\n",
    "        self.birthday = birthDate\n",
    "    \n",
    "    def getAge(self):\n",
    "        '''\n",
    "        returns self's current age in days\n",
    "        '''\n",
    "        if self.birthday == None:\n",
    "            raise ValueError\n",
    "        return(datetime.date.today()-self.birthday).days\n",
    "    \n",
    "    def __lt__(self, other):\n",
    "        '''\n",
    "        return True if self's name is lexicographically\n",
    "        less than other's name, and False otherwise\n",
    "        '''\n",
    "        if self.lastName == other.lastName:\n",
    "            return self.name < other.name\n",
    "        return self.lastName < other.lastName\n",
    "    \n",
    "    def __str__(self):\n",
    "        '''\n",
    "        return self's name\n",
    "        '''\n",
    "        return self.name"
   ]
  },
  {
   "cell_type": "code",
   "execution_count": 62,
   "metadata": {},
   "outputs": [
    {
     "name": "stdout",
     "output_type": "stream",
     "text": [
      "Galvez\n",
      "24.922655715263517\n",
      "Levi Campos\n"
     ]
    }
   ],
   "source": [
    "me = Person('Gonzalo Galvez')\n",
    "him = Person('Barack Obama')\n",
    "him2 = Person('Levi Campos')\n",
    "her=Person('Camila')\n",
    "print(me.getLastName())\n",
    "me.setBirthDay(datetime.date(1993, 12, 13))\n",
    "print(me.getAge()/365.25)\n",
    "print(him2)"
   ]
  },
  {
   "cell_type": "code",
   "execution_count": 62,
   "metadata": {},
   "outputs": [
    {
     "name": "stdout",
     "output_type": "stream",
     "text": [
      "Gonzalo Galvez\n",
      "Barack Obama\n",
      "Camila\n"
     ]
    }
   ],
   "source": [
    "pList = [me, him, her]\n",
    "for p in pList:\n",
    "    print(p)"
   ]
  },
  {
   "cell_type": "code",
   "execution_count": 64,
   "metadata": {},
   "outputs": [
    {
     "name": "stdout",
     "output_type": "stream",
     "text": [
      "Camila\n",
      "Gonzalo Galvez\n",
      "Barack Obama\n"
     ]
    }
   ],
   "source": [
    "pList.sort()\n",
    "for p in pList:\n",
    "    print(p)"
   ]
  },
  {
   "cell_type": "code",
   "execution_count": null,
   "metadata": {},
   "outputs": [],
   "source": []
  }
 ],
 "metadata": {
  "kernelspec": {
   "display_name": "Python 3",
   "language": "python",
   "name": "python3"
  },
  "language_info": {
   "codemirror_mode": {
    "name": "ipython",
    "version": 3
   },
   "file_extension": ".py",
   "mimetype": "text/x-python",
   "name": "python",
   "nbconvert_exporter": "python",
   "pygments_lexer": "ipython3",
   "version": "3.5.5"
  }
 },
 "nbformat": 4,
 "nbformat_minor": 2
}
